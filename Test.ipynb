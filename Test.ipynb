{
 "cells": [
  {
   "cell_type": "code",
   "execution_count": 1,
   "id": "20ea7df3-bdd4-44e4-a3de-eb4d9b9ae965",
   "metadata": {},
   "outputs": [
    {
     "name": "stdout",
     "output_type": "stream",
     "text": [
      "WARNING:tensorflow:From C:\\Users\\vaibh\\miniconda3\\Lib\\site-packages\\keras\\src\\losses.py:2976: The name tf.losses.sparse_softmax_cross_entropy is deprecated. Please use tf.compat.v1.losses.sparse_softmax_cross_entropy instead.\n",
      "\n"
     ]
    }
   ],
   "source": [
    "import numpy as np\n",
    "import pandas as pd\n",
    "import tensorflow as tf\n",
    "import keras"
   ]
  },
  {
   "cell_type": "code",
   "execution_count": 2,
   "id": "9455304d-91e3-429b-85ac-9a9f06067291",
   "metadata": {},
   "outputs": [],
   "source": [
    "df=pd.read_csv(\"Final_cleaned.csv\")"
   ]
  },
  {
   "cell_type": "code",
   "execution_count": 3,
   "id": "4109d07f-c521-4994-baf9-e4c742da9d0c",
   "metadata": {},
   "outputs": [
    {
     "data": {
      "text/html": [
       "<div>\n",
       "<style scoped>\n",
       "    .dataframe tbody tr th:only-of-type {\n",
       "        vertical-align: middle;\n",
       "    }\n",
       "\n",
       "    .dataframe tbody tr th {\n",
       "        vertical-align: top;\n",
       "    }\n",
       "\n",
       "    .dataframe thead th {\n",
       "        text-align: right;\n",
       "    }\n",
       "</style>\n",
       "<table border=\"1\" class=\"dataframe\">\n",
       "  <thead>\n",
       "    <tr style=\"text-align: right;\">\n",
       "      <th></th>\n",
       "      <th>Unnamed: 0</th>\n",
       "      <th>text</th>\n",
       "      <th>is_sucidal</th>\n",
       "    </tr>\n",
       "  </thead>\n",
       "  <tbody>\n",
       "    <tr>\n",
       "      <th>0</th>\n",
       "      <td>0</td>\n",
       "      <td>when youre so used to feeling anxious that bei...</td>\n",
       "      <td>1</td>\n",
       "    </tr>\n",
       "    <tr>\n",
       "      <th>1</th>\n",
       "      <td>1</td>\n",
       "      <td>melania trump doesnt care anymore</td>\n",
       "      <td>0</td>\n",
       "    </tr>\n",
       "    <tr>\n",
       "      <th>2</th>\n",
       "      <td>2</td>\n",
       "      <td>son in iraq i killed  peopleson dad you were a...</td>\n",
       "      <td>0</td>\n",
       "    </tr>\n",
       "    <tr>\n",
       "      <th>3</th>\n",
       "      <td>3</td>\n",
       "      <td>mother fuuuuuuuuuuuuuuuuuuuudies looks like da...</td>\n",
       "      <td>1</td>\n",
       "    </tr>\n",
       "    <tr>\n",
       "      <th>4</th>\n",
       "      <td>4</td>\n",
       "      <td>tw suicide \\nthis is so sad may he rest well  ...</td>\n",
       "      <td>1</td>\n",
       "    </tr>\n",
       "  </tbody>\n",
       "</table>\n",
       "</div>"
      ],
      "text/plain": [
       "   Unnamed: 0                                               text  is_sucidal\n",
       "0           0  when youre so used to feeling anxious that bei...           1\n",
       "1           1                 melania trump doesnt care anymore            0\n",
       "2           2  son in iraq i killed  peopleson dad you were a...           0\n",
       "3           3  mother fuuuuuuuuuuuuuuuuuuuudies looks like da...           1\n",
       "4           4  tw suicide \\nthis is so sad may he rest well  ...           1"
      ]
     },
     "execution_count": 3,
     "metadata": {},
     "output_type": "execute_result"
    }
   ],
   "source": [
    "df.head()"
   ]
  },
  {
   "cell_type": "code",
   "execution_count": 4,
   "id": "c21034bb-d5d5-44c4-b6c4-08322744569c",
   "metadata": {},
   "outputs": [],
   "source": [
    "new_df=df.sample(1000)"
   ]
  },
  {
   "cell_type": "code",
   "execution_count": 5,
   "id": "89f261be-45c7-48fe-9bde-6074a9e7500f",
   "metadata": {},
   "outputs": [
    {
     "data": {
      "text/html": [
       "<div>\n",
       "<style scoped>\n",
       "    .dataframe tbody tr th:only-of-type {\n",
       "        vertical-align: middle;\n",
       "    }\n",
       "\n",
       "    .dataframe tbody tr th {\n",
       "        vertical-align: top;\n",
       "    }\n",
       "\n",
       "    .dataframe thead th {\n",
       "        text-align: right;\n",
       "    }\n",
       "</style>\n",
       "<table border=\"1\" class=\"dataframe\">\n",
       "  <thead>\n",
       "    <tr style=\"text-align: right;\">\n",
       "      <th></th>\n",
       "      <th>Unnamed: 0</th>\n",
       "      <th>text</th>\n",
       "      <th>is_sucidal</th>\n",
       "    </tr>\n",
       "  </thead>\n",
       "  <tbody>\n",
       "    <tr>\n",
       "      <th>10596</th>\n",
       "      <td>10596</td>\n",
       "      <td>people that arent depressed exist and its fuck...</td>\n",
       "      <td>1</td>\n",
       "    </tr>\n",
       "    <tr>\n",
       "      <th>2271</th>\n",
       "      <td>2271</td>\n",
       "      <td>when rashford develops a consistent end produc...</td>\n",
       "      <td>1</td>\n",
       "    </tr>\n",
       "    <tr>\n",
       "      <th>559</th>\n",
       "      <td>559</td>\n",
       "      <td>terminator  judgment day fan screening turned ...</td>\n",
       "      <td>0</td>\n",
       "    </tr>\n",
       "    <tr>\n",
       "      <th>4958</th>\n",
       "      <td>4958</td>\n",
       "      <td>i despise when mentally healthy people say go ...</td>\n",
       "      <td>1</td>\n",
       "    </tr>\n",
       "    <tr>\n",
       "      <th>5732</th>\n",
       "      <td>5732</td>\n",
       "      <td>canada inquiry finds that deadpool  producers ...</td>\n",
       "      <td>0</td>\n",
       "    </tr>\n",
       "    <tr>\n",
       "      <th>...</th>\n",
       "      <td>...</td>\n",
       "      <td>...</td>\n",
       "      <td>...</td>\n",
       "    </tr>\n",
       "    <tr>\n",
       "      <th>5992</th>\n",
       "      <td>5992</td>\n",
       "      <td>tom hanks to play mr rogers in you are my friend</td>\n",
       "      <td>0</td>\n",
       "    </tr>\n",
       "    <tr>\n",
       "      <th>4140</th>\n",
       "      <td>4140</td>\n",
       "      <td>i asked my girlfriend to describe me in  words...</td>\n",
       "      <td>0</td>\n",
       "    </tr>\n",
       "    <tr>\n",
       "      <th>3364</th>\n",
       "      <td>3364</td>\n",
       "      <td>a man notices his wifes butt is getting bigi b...</td>\n",
       "      <td>0</td>\n",
       "    </tr>\n",
       "    <tr>\n",
       "      <th>3288</th>\n",
       "      <td>3288</td>\n",
       "      <td>cabbagebrains it emboldens the people who shar...</td>\n",
       "      <td>1</td>\n",
       "    </tr>\n",
       "    <tr>\n",
       "      <th>3547</th>\n",
       "      <td>3547</td>\n",
       "      <td>so inspiring</td>\n",
       "      <td>0</td>\n",
       "    </tr>\n",
       "  </tbody>\n",
       "</table>\n",
       "<p>1000 rows × 3 columns</p>\n",
       "</div>"
      ],
      "text/plain": [
       "       Unnamed: 0                                               text  \\\n",
       "10596       10596  people that arent depressed exist and its fuck...   \n",
       "2271         2271  when rashford develops a consistent end produc...   \n",
       "559           559  terminator  judgment day fan screening turned ...   \n",
       "4958         4958  i despise when mentally healthy people say go ...   \n",
       "5732         5732  canada inquiry finds that deadpool  producers ...   \n",
       "...           ...                                                ...   \n",
       "5992         5992  tom hanks to play mr rogers in you are my friend    \n",
       "4140         4140  i asked my girlfriend to describe me in  words...   \n",
       "3364         3364  a man notices his wifes butt is getting bigi b...   \n",
       "3288         3288  cabbagebrains it emboldens the people who shar...   \n",
       "3547         3547                                      so inspiring    \n",
       "\n",
       "       is_sucidal  \n",
       "10596           1  \n",
       "2271            1  \n",
       "559             0  \n",
       "4958            1  \n",
       "5732            0  \n",
       "...           ...  \n",
       "5992            0  \n",
       "4140            0  \n",
       "3364            0  \n",
       "3288            1  \n",
       "3547            0  \n",
       "\n",
       "[1000 rows x 3 columns]"
      ]
     },
     "execution_count": 5,
     "metadata": {},
     "output_type": "execute_result"
    }
   ],
   "source": [
    "new_df"
   ]
  },
  {
   "cell_type": "code",
   "execution_count": 6,
   "id": "d772f8fd-9e5e-49d8-a0fa-7c38fd91a088",
   "metadata": {},
   "outputs": [],
   "source": [
    "new_df.drop('Unnamed: 0',axis=1,inplace=True)"
   ]
  },
  {
   "cell_type": "code",
   "execution_count": 7,
   "id": "3225a1a8-7cf5-4d39-b4c3-1e512d7ba570",
   "metadata": {},
   "outputs": [
    {
     "data": {
      "text/html": [
       "<div>\n",
       "<style scoped>\n",
       "    .dataframe tbody tr th:only-of-type {\n",
       "        vertical-align: middle;\n",
       "    }\n",
       "\n",
       "    .dataframe tbody tr th {\n",
       "        vertical-align: top;\n",
       "    }\n",
       "\n",
       "    .dataframe thead th {\n",
       "        text-align: right;\n",
       "    }\n",
       "</style>\n",
       "<table border=\"1\" class=\"dataframe\">\n",
       "  <thead>\n",
       "    <tr style=\"text-align: right;\">\n",
       "      <th></th>\n",
       "      <th>text</th>\n",
       "      <th>is_sucidal</th>\n",
       "    </tr>\n",
       "  </thead>\n",
       "  <tbody>\n",
       "    <tr>\n",
       "      <th>10596</th>\n",
       "      <td>people that arent depressed exist and its fuck...</td>\n",
       "      <td>1</td>\n",
       "    </tr>\n",
       "    <tr>\n",
       "      <th>2271</th>\n",
       "      <td>when rashford develops a consistent end produc...</td>\n",
       "      <td>1</td>\n",
       "    </tr>\n",
       "    <tr>\n",
       "      <th>559</th>\n",
       "      <td>terminator  judgment day fan screening turned ...</td>\n",
       "      <td>0</td>\n",
       "    </tr>\n",
       "    <tr>\n",
       "      <th>4958</th>\n",
       "      <td>i despise when mentally healthy people say go ...</td>\n",
       "      <td>1</td>\n",
       "    </tr>\n",
       "    <tr>\n",
       "      <th>5732</th>\n",
       "      <td>canada inquiry finds that deadpool  producers ...</td>\n",
       "      <td>0</td>\n",
       "    </tr>\n",
       "    <tr>\n",
       "      <th>...</th>\n",
       "      <td>...</td>\n",
       "      <td>...</td>\n",
       "    </tr>\n",
       "    <tr>\n",
       "      <th>5992</th>\n",
       "      <td>tom hanks to play mr rogers in you are my friend</td>\n",
       "      <td>0</td>\n",
       "    </tr>\n",
       "    <tr>\n",
       "      <th>4140</th>\n",
       "      <td>i asked my girlfriend to describe me in  words...</td>\n",
       "      <td>0</td>\n",
       "    </tr>\n",
       "    <tr>\n",
       "      <th>3364</th>\n",
       "      <td>a man notices his wifes butt is getting bigi b...</td>\n",
       "      <td>0</td>\n",
       "    </tr>\n",
       "    <tr>\n",
       "      <th>3288</th>\n",
       "      <td>cabbagebrains it emboldens the people who shar...</td>\n",
       "      <td>1</td>\n",
       "    </tr>\n",
       "    <tr>\n",
       "      <th>3547</th>\n",
       "      <td>so inspiring</td>\n",
       "      <td>0</td>\n",
       "    </tr>\n",
       "  </tbody>\n",
       "</table>\n",
       "<p>1000 rows × 2 columns</p>\n",
       "</div>"
      ],
      "text/plain": [
       "                                                    text  is_sucidal\n",
       "10596  people that arent depressed exist and its fuck...           1\n",
       "2271   when rashford develops a consistent end produc...           1\n",
       "559    terminator  judgment day fan screening turned ...           0\n",
       "4958   i despise when mentally healthy people say go ...           1\n",
       "5732   canada inquiry finds that deadpool  producers ...           0\n",
       "...                                                  ...         ...\n",
       "5992   tom hanks to play mr rogers in you are my friend            0\n",
       "4140   i asked my girlfriend to describe me in  words...           0\n",
       "3364   a man notices his wifes butt is getting bigi b...           0\n",
       "3288   cabbagebrains it emboldens the people who shar...           1\n",
       "3547                                       so inspiring            0\n",
       "\n",
       "[1000 rows x 2 columns]"
      ]
     },
     "execution_count": 7,
     "metadata": {},
     "output_type": "execute_result"
    }
   ],
   "source": [
    "new_df"
   ]
  },
  {
   "cell_type": "code",
   "execution_count": 8,
   "id": "0bf3e016-1289-4906-b162-f0a3eda3feb6",
   "metadata": {},
   "outputs": [],
   "source": [
    "X=new_df['text']\n",
    "y=new_df['is_sucidal']"
   ]
  },
  {
   "cell_type": "code",
   "execution_count": 9,
   "id": "81083d52-490a-4c76-bad6-a0fb3d8fd7d6",
   "metadata": {},
   "outputs": [],
   "source": [
    "import pickle"
   ]
  },
  {
   "cell_type": "code",
   "execution_count": 10,
   "id": "d3171660-d6fb-4b0e-804d-e0211e7abed4",
   "metadata": {},
   "outputs": [],
   "source": [
    "tokenizer=pickle.load(open(\"tokenizer.pkl\",\"rb\"))"
   ]
  },
  {
   "cell_type": "code",
   "execution_count": 11,
   "id": "a8f50d9a-c3c4-421f-b4ce-9ffe8a4cec30",
   "metadata": {},
   "outputs": [],
   "source": [
    "seq_size=400\n",
    "\n",
    "X=tokenizer.texts_to_sequences(X)\n",
    "\n",
    "\n",
    "\n",
    "X=keras.preprocessing.sequence.pad_sequences(X,seq_size)"
   ]
  },
  {
   "cell_type": "code",
   "execution_count": 12,
   "id": "47081d76-0d26-4db3-96b8-99df2e7933ef",
   "metadata": {},
   "outputs": [
    {
     "data": {
      "text/plain": [
       "array([[   0,    0,    0, ...,   37,  911,  143],\n",
       "       [   0,    0,    0, ...,   10,  550, 1572],\n",
       "       [   0,    0,    0, ..., 2875,  503, 3091],\n",
       "       ...,\n",
       "       [   0,    0,    0, ...,   51,  198,    1],\n",
       "       [   0,    0,    0, ...,    6,  643,  420],\n",
       "       [   0,    0,    0, ...,    0,   20, 4705]])"
      ]
     },
     "execution_count": 12,
     "metadata": {},
     "output_type": "execute_result"
    }
   ],
   "source": [
    "X"
   ]
  },
  {
   "cell_type": "code",
   "execution_count": 13,
   "id": "82fd6d1d-7d2b-47a4-9812-c6115349f78e",
   "metadata": {},
   "outputs": [
    {
     "name": "stdout",
     "output_type": "stream",
     "text": [
      "WARNING:tensorflow:From C:\\Users\\vaibh\\miniconda3\\Lib\\site-packages\\keras\\src\\backend.py:1398: The name tf.executing_eagerly_outside_functions is deprecated. Please use tf.compat.v1.executing_eagerly_outside_functions instead.\n",
      "\n",
      "WARNING:tensorflow:From C:\\Users\\vaibh\\miniconda3\\Lib\\site-packages\\keras\\src\\backend.py:6642: The name tf.nn.max_pool is deprecated. Please use tf.nn.max_pool2d instead.\n",
      "\n"
     ]
    }
   ],
   "source": [
    "model=keras.models.load_model(\"model.h5\")"
   ]
  },
  {
   "cell_type": "code",
   "execution_count": 14,
   "id": "a5af0f73-8dfd-4bd8-acca-058bb3ccd84d",
   "metadata": {},
   "outputs": [],
   "source": [
    "n=model(X)"
   ]
  },
  {
   "cell_type": "code",
   "execution_count": 15,
   "id": "c356c4dd-9bd9-4e86-8d0b-ac5eb8825202",
   "metadata": {
    "scrolled": true
   },
   "outputs": [],
   "source": [
    "predected=np.where(n>0.5,1,0)"
   ]
  },
  {
   "cell_type": "code",
   "execution_count": 16,
   "id": "888526c2-eb13-4add-b95d-4a3b6649f27f",
   "metadata": {},
   "outputs": [],
   "source": [
    "y=y.values"
   ]
  },
  {
   "cell_type": "code",
   "execution_count": 17,
   "id": "4dec365b-59e1-4f1a-973c-753ebd6cbb62",
   "metadata": {},
   "outputs": [],
   "source": [
    "from sklearn.metrics import confusion_matrix"
   ]
  },
  {
   "cell_type": "code",
   "execution_count": 18,
   "id": "94950bc8-e55e-49a9-a0f1-c39156f3202e",
   "metadata": {},
   "outputs": [],
   "source": [
    "cm=confusion_matrix(y,predected)"
   ]
  },
  {
   "cell_type": "code",
   "execution_count": 19,
   "id": "a30dc109-fc1c-414b-a33e-c9aae55478f0",
   "metadata": {},
   "outputs": [
    {
     "data": {
      "text/plain": [
       "array([[469,  11],\n",
       "       [ 10, 510]], dtype=int64)"
      ]
     },
     "execution_count": 19,
     "metadata": {},
     "output_type": "execute_result"
    }
   ],
   "source": [
    "cm"
   ]
  },
  {
   "cell_type": "code",
   "execution_count": 25,
   "id": "31ea9db9-95ab-4063-9cf8-f7dd72e476cf",
   "metadata": {},
   "outputs": [],
   "source": [
    "import seaborn as sns\n",
    "import matplotlib.pyplot as plt"
   ]
  },
  {
   "cell_type": "code",
   "execution_count": 27,
   "id": "0c7be027-f644-4f4c-84a9-07cb860487dd",
   "metadata": {},
   "outputs": [],
   "source": [
    "plt.style.use([ 'seaborn-v0_8-dark',\n",
    " 'seaborn-v0_8-dark-palette',\n",
    " 'seaborn-v0_8-darkgrid'])"
   ]
  },
  {
   "cell_type": "code",
   "execution_count": 28,
   "id": "aa9cf276-cc81-4f04-867b-de46452bb46d",
   "metadata": {},
   "outputs": [
    {
     "data": {
      "text/plain": [
       "Text(0.5, 1.0, 'Confusion Matrix..')"
      ]
     },
     "execution_count": 28,
     "metadata": {},
     "output_type": "execute_result"
    },
    {
     "data": {
      "image/png": "[encoded data removed]",
      "text/plain": [
       "<Figure size 640x480 with 2 Axes>"
      ]
     },
     "metadata": {},
     "output_type": "display_data"
    }
   ],
   "source": [
    "sns.heatmap(cm,annot=True,fmt=\".6g\")\n",
    "plt.xlabel(\"Actual\")\n",
    "plt.ylabel(\"Predicted\")\n",
    "plt.title(\"Confusion Matrix..\")"
   ]
  },
  {
   "cell_type": "code",
   "execution_count": null,
   "id": "b2f2f600-09c1-4a80-84f4-cbb2bb85da3f",
   "metadata": {},
   "outputs": [],
   "source": []
  },
  {
   "cell_type": "code",
   "execution_count": null,
   "id": "096e21c0-af42-4c05-b911-b12270064953",
   "metadata": {},
   "outputs": [],
   "source": []
  }
 ],
 "metadata": {
  "kernelspec": {
   "display_name": "Python 3 (ipykernel)",
   "language": "python",
   "name": "python3"
  },
  "language_info": {
   "codemirror_mode": {
    "name": "ipython",
    "version": 3
   },
   "file_extension": ".py",
   "mimetype": "text/x-python",
   "name": "python",
   "nbconvert_exporter": "python",
   "pygments_lexer": "ipython3",
   "version": "3.11.5"
  }
 },
 "nbformat": 4,
 "nbformat_minor": 5
}
